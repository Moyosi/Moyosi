{
 "cells": [
  {
   "cell_type": "code",
   "execution_count": 1,
   "id": "84bfdb1b",
   "metadata": {},
   "outputs": [
    {
     "data": {
      "text/plain": [
       "'£3037.5 is the total cost of your tiles'"
      ]
     },
     "execution_count": 1,
     "metadata": {},
     "output_type": "execute_result"
    }
   ],
   "source": [
    "from IPython.display import clear_output as clear\n",
    "'''\n",
    "So here is a simple funtion to calc the cost of a tiles of floor based on its area, cost \n",
    "of tile and areaof each tile each bit of info is an input\n",
    "'''\n",
    "def area_of_floor():#b-breadth and l-length\n",
    "    while True:\n",
    "        print(\"Please use the same measurement through all questions requiring measurement\")\n",
    "        try:\n",
    "            b = int(input('What is the breadth of the floor in feet?'))\n",
    "            l = int(input('What is the length of the floor in feet?'))\n",
    "            clear()\n",
    "            Area = b*l\n",
    "            return Area\n",
    "            break\n",
    "        except:\n",
    "            clear()\n",
    "            print('Sorry you did not put a correct value')\n",
    "\n",
    "def area_of_tiles():\n",
    "    while True:\n",
    "        try:\n",
    "            b = int(input('What is the breadth of the tiles in inches?'))\n",
    "            l = int(input('What is the length of the tiles in inches?'))\n",
    "            clear()\n",
    "            b = b/12\n",
    "            l = l/12\n",
    "            Area_of_tiles = b*l\n",
    "            return Area_of_tiles\n",
    "            break\n",
    "        except:\n",
    "            clear()\n",
    "            print('Sorry you did not put a correct value')\n",
    "            \n",
    "def cost_of_tiles():\n",
    "     while True:\n",
    "        try:\n",
    "            b = int(input('What is the cost of a single tile?'))\n",
    "            clear()\n",
    "            return b\n",
    "            break\n",
    "        except:\n",
    "            clear()\n",
    "            print('Sorry you did not put a correct value')\n",
    "            \n",
    "def calc_total_cost():\n",
    "    total_cost = (area_of_floor()/area_of_tiles())*cost_of_tiles()\n",
    "    if '.'in str(total_cost) :\n",
    "        total_cost = round(total_cost,1)\n",
    "    return f'£{total_cost} is the total cost of your tiles'\n",
    "\n",
    "calc_total_cost()"
   ]
  }
 ],
 "metadata": {
  "kernelspec": {
   "display_name": "Python 3 (ipykernel)",
   "language": "python",
   "name": "python3"
  },
  "language_info": {
   "codemirror_mode": {
    "name": "ipython",
    "version": 3
   },
   "file_extension": ".py",
   "mimetype": "text/x-python",
   "name": "python",
   "nbconvert_exporter": "python",
   "pygments_lexer": "ipython3",
   "version": "3.9.12"
  }
 },
 "nbformat": 4,
 "nbformat_minor": 5
}
