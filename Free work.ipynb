{
 "cells": [
  {
   "cell_type": "code",
   "execution_count": 5,
   "id": "71e9cbe3",
   "metadata": {},
   "outputs": [],
   "source": [
    "from IPython.display import clear_output as clear\n",
    "\"\"\"\n",
    "A simple function that gives the fibonacci up to an inputed number\n",
    "\"\"\"\n",
    "def fibonacci(n):\n",
    "    a = 1\n",
    "    b = 1\n",
    "    for n in range(n):\n",
    "        yield a\n",
    "        a,b = b,a+b\n",
    "        \n",
    "def choice():\n",
    "    something = True\n",
    "    while something:\n",
    "        try:\n",
    "            choice = int(input('Place a no. you would like to see the fiboacci sequence upto:'))\n",
    "            \n",
    "            if choice >= 1000:\n",
    "                clear()\n",
    "                print('Place a no. less than 1000.')\n",
    "                  \n",
    "            elif choice <= 0:\n",
    "                clear()\n",
    "                print('Place a number more than 0.')\n",
    "                \n",
    "            else:\n",
    "                return choice\n",
    "                something = False\n",
    "        except:\n",
    "            print('Error please try again properly')\n",
    "            clear()\n",
    "def main():\n",
    "    while True:\n",
    "        number = choice()\n",
    "        fibo = fibonacci(number)\n",
    "        for n in fibo:\n",
    "            print(n)\n",
    "        ask = input('Wanna ask again? If yes click enter')\n",
    "        if ask == '':\n",
    "            clear()\n",
    "            continue\n",
    "        else:\n",
    "            clear()\n",
    "            break\n",
    "            \n",
    "if __name__ == '__main__':\n",
    "    main()"
   ]
  },
  {
   "cell_type": "code",
   "execution_count": 6,
   "id": "94001173",
   "metadata": {},
   "outputs": [],
   "source": []
  },
  {
   "cell_type": "code",
   "execution_count": null,
   "id": "9aecd2db",
   "metadata": {},
   "outputs": [],
   "source": []
  },
  {
   "cell_type": "code",
   "execution_count": null,
   "id": "0d50e986",
   "metadata": {},
   "outputs": [],
   "source": []
  },
  {
   "cell_type": "code",
   "execution_count": null,
   "id": "077d6a32",
   "metadata": {},
   "outputs": [],
   "source": []
  }
 ],
 "metadata": {
  "kernelspec": {
   "display_name": "Python 3 (ipykernel)",
   "language": "python",
   "name": "python3"
  },
  "language_info": {
   "codemirror_mode": {
    "name": "ipython",
    "version": 3
   },
   "file_extension": ".py",
   "mimetype": "text/x-python",
   "name": "python",
   "nbconvert_exporter": "python",
   "pygments_lexer": "ipython3",
   "version": "3.9.12"
  }
 },
 "nbformat": 4,
 "nbformat_minor": 5
}
