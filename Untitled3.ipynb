{
 "cells": [
  {
   "cell_type": "code",
   "execution_count": 14,
   "id": "dea5875a",
   "metadata": {},
   "outputs": [],
   "source": [
    "import pandas as pd,numpy as np,datetime as dt\n",
    "import matplotlib.pyplot as plt\n",
    "import seaborn as sns\n",
    "import os "
   ]
  },
  {
   "cell_type": "code",
   "execution_count": 2,
   "id": "95d6f663",
   "metadata": {},
   "outputs": [],
   "source": [
    "flight =  pd.read_csv('Flight history for december.csv')"
   ]
  },
  {
   "cell_type": "code",
   "execution_count": 3,
   "id": "0bfae61c",
   "metadata": {},
   "outputs": [
    {
     "data": {
      "text/html": [
       "<div>\n",
       "<style scoped>\n",
       "    .dataframe tbody tr th:only-of-type {\n",
       "        vertical-align: middle;\n",
       "    }\n",
       "\n",
       "    .dataframe tbody tr th {\n",
       "        vertical-align: top;\n",
       "    }\n",
       "\n",
       "    .dataframe thead th {\n",
       "        text-align: right;\n",
       "    }\n",
       "</style>\n",
       "<table border=\"1\" class=\"dataframe\">\n",
       "  <thead>\n",
       "    <tr style=\"text-align: right;\">\n",
       "      <th></th>\n",
       "      <th>Date</th>\n",
       "      <th>Total</th>\n",
       "      <th>Business</th>\n",
       "      <th>Second</th>\n",
       "      <th>First</th>\n",
       "    </tr>\n",
       "  </thead>\n",
       "  <tbody>\n",
       "    <tr>\n",
       "      <th>0</th>\n",
       "      <td>01/12/2009</td>\n",
       "      <td>920</td>\n",
       "      <td>300</td>\n",
       "      <td>300</td>\n",
       "      <td>320</td>\n",
       "    </tr>\n",
       "    <tr>\n",
       "      <th>1</th>\n",
       "      <td>02/12/2009</td>\n",
       "      <td>403</td>\n",
       "      <td>100</td>\n",
       "      <td>200</td>\n",
       "      <td>103</td>\n",
       "    </tr>\n",
       "    <tr>\n",
       "      <th>2</th>\n",
       "      <td>04/12/2009</td>\n",
       "      <td>2000</td>\n",
       "      <td>700</td>\n",
       "      <td>300</td>\n",
       "      <td>1000</td>\n",
       "    </tr>\n",
       "    <tr>\n",
       "      <th>3</th>\n",
       "      <td>05/12/2009</td>\n",
       "      <td>1000</td>\n",
       "      <td>300</td>\n",
       "      <td>300</td>\n",
       "      <td>400</td>\n",
       "    </tr>\n",
       "    <tr>\n",
       "      <th>4</th>\n",
       "      <td>06/12/2009</td>\n",
       "      <td>300</td>\n",
       "      <td>100</td>\n",
       "      <td>50</td>\n",
       "      <td>150</td>\n",
       "    </tr>\n",
       "  </tbody>\n",
       "</table>\n",
       "</div>"
      ],
      "text/plain": [
       "         Date  Total  Business  Second  First\n",
       "0  01/12/2009    920       300     300    320\n",
       "1  02/12/2009    403       100     200    103\n",
       "2  04/12/2009   2000       700     300   1000\n",
       "3  05/12/2009   1000       300     300    400\n",
       "4  06/12/2009    300       100      50    150"
      ]
     },
     "execution_count": 3,
     "metadata": {},
     "output_type": "execute_result"
    }
   ],
   "source": [
    "flight.head()"
   ]
  },
  {
   "cell_type": "code",
   "execution_count": 4,
   "id": "0060089d",
   "metadata": {},
   "outputs": [
    {
     "data": {
      "text/plain": [
       "pandas.core.series.Series"
      ]
     },
     "execution_count": 4,
     "metadata": {},
     "output_type": "execute_result"
    }
   ],
   "source": [
    "type(flight.Date)"
   ]
  },
  {
   "cell_type": "code",
   "execution_count": 5,
   "id": "f51a98b5",
   "metadata": {},
   "outputs": [],
   "source": [
    "flight.Date = pd.to_datetime(flight.Date)"
   ]
  },
  {
   "cell_type": "code",
   "execution_count": 6,
   "id": "5e9d929f",
   "metadata": {},
   "outputs": [
    {
     "data": {
      "text/html": [
       "<div>\n",
       "<style scoped>\n",
       "    .dataframe tbody tr th:only-of-type {\n",
       "        vertical-align: middle;\n",
       "    }\n",
       "\n",
       "    .dataframe tbody tr th {\n",
       "        vertical-align: top;\n",
       "    }\n",
       "\n",
       "    .dataframe thead th {\n",
       "        text-align: right;\n",
       "    }\n",
       "</style>\n",
       "<table border=\"1\" class=\"dataframe\">\n",
       "  <thead>\n",
       "    <tr style=\"text-align: right;\">\n",
       "      <th></th>\n",
       "      <th>Date</th>\n",
       "      <th>Total</th>\n",
       "      <th>Business</th>\n",
       "      <th>Second</th>\n",
       "      <th>First</th>\n",
       "    </tr>\n",
       "  </thead>\n",
       "  <tbody>\n",
       "    <tr>\n",
       "      <th>0</th>\n",
       "      <td>2009-01-12</td>\n",
       "      <td>920</td>\n",
       "      <td>300</td>\n",
       "      <td>300</td>\n",
       "      <td>320</td>\n",
       "    </tr>\n",
       "    <tr>\n",
       "      <th>1</th>\n",
       "      <td>2009-02-12</td>\n",
       "      <td>403</td>\n",
       "      <td>100</td>\n",
       "      <td>200</td>\n",
       "      <td>103</td>\n",
       "    </tr>\n",
       "    <tr>\n",
       "      <th>2</th>\n",
       "      <td>2009-04-12</td>\n",
       "      <td>2000</td>\n",
       "      <td>700</td>\n",
       "      <td>300</td>\n",
       "      <td>1000</td>\n",
       "    </tr>\n",
       "    <tr>\n",
       "      <th>3</th>\n",
       "      <td>2009-05-12</td>\n",
       "      <td>1000</td>\n",
       "      <td>300</td>\n",
       "      <td>300</td>\n",
       "      <td>400</td>\n",
       "    </tr>\n",
       "    <tr>\n",
       "      <th>4</th>\n",
       "      <td>2009-06-12</td>\n",
       "      <td>300</td>\n",
       "      <td>100</td>\n",
       "      <td>50</td>\n",
       "      <td>150</td>\n",
       "    </tr>\n",
       "    <tr>\n",
       "      <th>5</th>\n",
       "      <td>2009-08-12</td>\n",
       "      <td>284</td>\n",
       "      <td>84</td>\n",
       "      <td>150</td>\n",
       "      <td>50</td>\n",
       "    </tr>\n",
       "    <tr>\n",
       "      <th>6</th>\n",
       "      <td>2009-09-12</td>\n",
       "      <td>983</td>\n",
       "      <td>83</td>\n",
       "      <td>505</td>\n",
       "      <td>395</td>\n",
       "    </tr>\n",
       "    <tr>\n",
       "      <th>7</th>\n",
       "      <td>2009-11-12</td>\n",
       "      <td>293</td>\n",
       "      <td>93</td>\n",
       "      <td>200</td>\n",
       "      <td>0</td>\n",
       "    </tr>\n",
       "    <tr>\n",
       "      <th>8</th>\n",
       "      <td>2009-12-12</td>\n",
       "      <td>989</td>\n",
       "      <td>89</td>\n",
       "      <td>300</td>\n",
       "      <td>600</td>\n",
       "    </tr>\n",
       "  </tbody>\n",
       "</table>\n",
       "</div>"
      ],
      "text/plain": [
       "        Date  Total  Business  Second  First\n",
       "0 2009-01-12    920       300     300    320\n",
       "1 2009-02-12    403       100     200    103\n",
       "2 2009-04-12   2000       700     300   1000\n",
       "3 2009-05-12   1000       300     300    400\n",
       "4 2009-06-12    300       100      50    150\n",
       "5 2009-08-12    284        84     150     50\n",
       "6 2009-09-12    983        83     505    395\n",
       "7 2009-11-12    293        93     200      0\n",
       "8 2009-12-12    989        89     300    600"
      ]
     },
     "execution_count": 6,
     "metadata": {},
     "output_type": "execute_result"
    }
   ],
   "source": [
    "flight"
   ]
  },
  {
   "cell_type": "code",
   "execution_count": 7,
   "id": "475a2b8b",
   "metadata": {},
   "outputs": [],
   "source": [
    "flight = flight.set_index('Date')"
   ]
  },
  {
   "cell_type": "code",
   "execution_count": 18,
   "id": "22e8a587",
   "metadata": {},
   "outputs": [
    {
     "data": {
      "text/plain": [
       "([<matplotlib.patches.Wedge at 0x7ffb4fdd54c0>,\n",
       "  <matplotlib.patches.Wedge at 0x7ffb4fe59520>,\n",
       "  <matplotlib.patches.Wedge at 0x7ffb4fe59c40>],\n",
       " [Text(0.796661422925304, 0.7585054892501637, 'Business class'),\n",
       "  Text(0.5389751465702394, -0.9589086460031473, 'Second class'),\n",
       "  Text(-1.0661283032938016, 0.2708697859043711, 'First class')],\n",
       " [Text(0.434542594322893, 0.41373026686372566, '25.8%'),\n",
       "  Text(0.2939864435837669, -0.5230410796380802, '32.1%'),\n",
       "  Text(-0.5815245290693463, 0.14774715594783877, '42.1%')])"
      ]
     },
     "execution_count": 18,
     "metadata": {},
     "output_type": "execute_result"
    },
    {
     "data": {
      "image/png": "[encoded data removed]",
      "text/plain": [
       "<Figure size 432x288 with 1 Axes>"
      ]
     },
     "metadata": {},
     "output_type": "display_data"
    }
   ],
   "source": [
    "whatever = flight.Business.sum()\n",
    "what = flight.Second.sum()\n",
    "whateves = flight.First.sum()\n",
    "prop =[whatever,what,whateves]\n",
    "plt.pie(prop,\n",
    "        colors=['red','green','blue'],\n",
    "        startangle=90,\n",
    "        counterclock=False,\n",
    "        autopct='%1.1f%%',\n",
    "        labels=['Business class','Second class','First class'],\n",
    "        rotatelabels=False)"
   ]
  },
  {
   "cell_type": "code",
   "execution_count": null,
   "id": "6d1f28e8",
   "metadata": {},
   "outputs": [],
   "source": []
  }
 ],
 "metadata": {
  "kernelspec": {
   "display_name": "Python 3 (ipykernel)",
   "language": "python",
   "name": "python3"
  },
  "language_info": {
   "codemirror_mode": {
    "name": "ipython",
    "version": 3
   },
   "file_extension": ".py",
   "mimetype": "text/x-python",
   "name": "python",
   "nbconvert_exporter": "python",
   "pygments_lexer": "ipython3",
   "version": "3.9.12"
  }
 },
 "nbformat": 4,
 "nbformat_minor": 5
}
