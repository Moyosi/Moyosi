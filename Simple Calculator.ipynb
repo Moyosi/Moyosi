{
 "cells": [
  {
   "cell_type": "code",
   "execution_count": null,
   "id": "a4220993",
   "metadata": {},
   "outputs": [],
   "source": [
    "\n",
    "def calc(a, b, op):\n",
    "    \"\"\"\n",
    "    Returns a string like this: a op b = c\n",
    "    where c is the computed value according to the opeartor\n",
    "    \"\"\"\n",
    "    try:\n",
    "        if op == '+':\n",
    "            return(int(a)+int(b))\n",
    " \n",
    "        elif op == '-':\n",
    "            return(int(a)-int(b))\n",
    "        elif op == '*':\n",
    "            return(int(a)*int(b))\n",
    "        elif op == '/':\n",
    "            return(int(a)/int(b))\n",
    "        elif op == '^':\n",
    "            return(pow(int(a),int(b)))\n",
    "        else:\n",
    "            print('Does not support operation')\n",
    "    except:\n",
    "        clear()\n",
    "        print('ERROR')\n",
    "\n",
    "def main():  # Wrapper function\n",
    "    print('Hey this is a simple calculator that only supports operations like adding,subtracting,multiplying,division and raising to the power of a certain number\\nNote: to raise to the power you need to place \"^\"in the operations box\\n\\tThank you')\n",
    "    choice = input('Do you understand if yes click enter')\n",
    "    if choice == '': \n",
    "        clear()\n",
    "        a = int(input('Please type the first number: '))\n",
    "        clear()\n",
    "        op = input('What kind of operation would you like to do?')\n",
    "        clear()\n",
    "        b = int(input('Please type the second number: '))\n",
    "        clear()\n",
    "    print(f\"Your result is:\\n{calc(a, b, op)}\")\n",
    "main()"
   ]
  }
 ],
 "metadata": {
  "kernelspec": {
   "display_name": "Python 3 (ipykernel)",
   "language": "python",
   "name": "python3"
  },
  "language_info": {
   "codemirror_mode": {
    "name": "ipython",
    "version": 3
   },
   "file_extension": ".py",
   "mimetype": "text/x-python",
   "name": "python",
   "nbconvert_exporter": "python",
   "pygments_lexer": "ipython3",
   "version": "3.9.12"
  }
 },
 "nbformat": 4,
 "nbformat_minor": 5
}
