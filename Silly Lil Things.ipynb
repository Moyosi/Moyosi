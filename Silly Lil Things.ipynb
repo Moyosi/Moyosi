{
 "cells": [
  {
   "cell_type": "code",
   "execution_count": 1,
   "id": "93a45e7c",
   "metadata": {},
   "outputs": [
    {
     "name": "stdout",
     "output_type": "stream",
     "text": [
      "Wanna see something silly input anything you want to see backwards:\n",
      "sad\n",
      "Normal:sad\n",
      "Backward:das\n"
     ]
    },
    {
     "data": {
      "text/plain": [
       "'I hope you liked it'"
      ]
     },
     "execution_count": 1,
     "metadata": {},
     "output_type": "execute_result"
    }
   ],
   "source": [
    "def reverse(s):\n",
    "    ss = s[::-1]\n",
    "    print(f'Normal:{s}\\nBackward:{ss}')\n",
    "    return 'I hope you liked it'\n",
    "\n",
    "def main():\n",
    "    return reverse(input('Wanna see something silly input anything you want to see backwards:\\n'))\n",
    "main()"
   ]
  },
  {
   "cell_type": "code",
   "execution_count": 3,
   "id": "34ed8d37",
   "metadata": {},
   "outputs": [
    {
     "name": "stdout",
     "output_type": "stream",
     "text": [
      "Anything you think might be a palindrome numbers allowed:\n",
      "1024 + 4201\n",
      "1024 + 4201 is a palindrome\n",
      "Palindrome:1024 + 4201\n"
     ]
    },
    {
     "data": {
      "text/plain": [
       "True"
      ]
     },
     "execution_count": 3,
     "metadata": {},
     "output_type": "execute_result"
    }
   ],
   "source": [
    "def palindrome(s):\n",
    "    ss = ''.join(char for char in s if char.isalnum()).lower()\n",
    "    if ss == ss[::-1]:\n",
    "        print(f\"{s} is a palindrome\")\n",
    "        print(f\"Palindrome:{s[::-1]}\")\n",
    "    else:\n",
    "        print('Not a palindrome')\n",
    "    return ss == ss[::-1]\n",
    "def main():\n",
    "    return palindrome(input(\"Anything you think might be a palindrome numbers allowed:\\n\"))\n",
    "\n",
    "main()"
   ]
  },
  {
   "cell_type": "code",
   "execution_count": null,
   "id": "bcfe45f1",
   "metadata": {},
   "outputs": [],
   "source": []
  }
 ],
 "metadata": {
  "kernelspec": {
   "display_name": "Python 3 (ipykernel)",
   "language": "python",
   "name": "python3"
  },
  "language_info": {
   "codemirror_mode": {
    "name": "ipython",
    "version": 3
   },
   "file_extension": ".py",
   "mimetype": "text/x-python",
   "name": "python",
   "nbconvert_exporter": "python",
   "pygments_lexer": "ipython3",
   "version": "3.9.12"
  }
 },
 "nbformat": 4,
 "nbformat_minor": 5
}
